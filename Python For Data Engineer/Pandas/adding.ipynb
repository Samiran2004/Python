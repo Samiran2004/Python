{
 "cells": [
  {
   "cell_type": "code",
   "execution_count": 32,
   "id": "558f9a8e",
   "metadata": {},
   "outputs": [],
   "source": [
    "import pandas as pd"
   ]
  },
  {
   "cell_type": "markdown",
   "id": "e7f50b0d",
   "metadata": {},
   "source": [
    "### Create dataframe"
   ]
  },
  {
   "cell_type": "code",
   "execution_count": 33,
   "id": "a9b8838f",
   "metadata": {},
   "outputs": [
    {
     "name": "stdout",
     "output_type": "stream",
     "text": [
      "  Name  Age  Salary  Performance_Score\n",
      "0  Ram   28   50000                 85\n"
     ]
    }
   ],
   "source": [
    "data = {\n",
    "    \"Name\": [\"Ram\", \"Shyam\", \"Samiran\", \"Jhon\", \"Jene\", \"Victor\", \"Raj\", \"Simran\"],\n",
    "    \"Age\": [28, 27, 30, 40, 29, 60, 32, 45],\n",
    "    \"Salary\": [50000, 40000, 60000, 30000, 45000, 49000, 70000, 48000],\n",
    "    \"Performance_Score\": [85, 90, 78, 92, 88, 95, 89, 80]\n",
    "}\n",
    "\n",
    "df = pd.DataFrame(data=data)\n",
    "\n",
    "print(df.head(1))"
   ]
  },
  {
   "cell_type": "markdown",
   "id": "0a82c92c",
   "metadata": {},
   "source": [
    "### Create a column name Bonus and add 10% of salary..."
   ]
  },
  {
   "cell_type": "code",
   "execution_count": 34,
   "id": "09874d3a",
   "metadata": {},
   "outputs": [
    {
     "name": "stdout",
     "output_type": "stream",
     "text": [
      "   Employee_id     Name  Age  Salary  Performance_Score   Bonus  Total_Salary\n",
      "0            1      Ram   28   50000                 85  5000.0       55000.0\n",
      "1            2    Shyam   27   40000                 90  4000.0       44000.0\n",
      "2            3  Samiran   30   60000                 78  6000.0       66000.0\n",
      "3            4     Jhon   40   30000                 92  3000.0       33000.0\n",
      "4            5     Jene   29   45000                 88  4500.0       49500.0\n",
      "5            6   Victor   60   49000                 95  4900.0       53900.0\n",
      "6            7      Raj   32   70000                 89  7000.0       77000.0\n",
      "7            8   Simran   45   48000                 80  4800.0       52800.0\n"
     ]
    }
   ],
   "source": [
    "df[\"Bonus\"] = df[\"Salary\"] * 0.1\n",
    "\n",
    "df.insert(5, \"Total_Salary\", df[\"Salary\"] + df[\"Bonus\"])\n",
    "\n",
    "# Using insert method...\n",
    "df.insert(0, \"Employee_id\", range(1, len(df) + 1))\n",
    "\n",
    "print(df)"
   ]
  }
 ],
 "metadata": {
  "kernelspec": {
   "display_name": ".venv",
   "language": "python",
   "name": "python3"
  },
  "language_info": {
   "codemirror_mode": {
    "name": "ipython",
    "version": 3
   },
   "file_extension": ".py",
   "mimetype": "text/x-python",
   "name": "python",
   "nbconvert_exporter": "python",
   "pygments_lexer": "ipython3",
   "version": "3.13.5"
  }
 },
 "nbformat": 4,
 "nbformat_minor": 5
}
