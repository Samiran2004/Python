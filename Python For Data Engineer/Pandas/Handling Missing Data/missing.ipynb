{
 "cells": [
  {
   "cell_type": "code",
   "execution_count": 13,
   "id": "51cfe8a0",
   "metadata": {},
   "outputs": [],
   "source": [
    "import pandas as pd"
   ]
  },
  {
   "cell_type": "code",
   "execution_count": 14,
   "id": "30ecd16f",
   "metadata": {},
   "outputs": [
    {
     "name": "stdout",
     "output_type": "stream",
     "text": [
      "      Name   Age   Salary  Performance_Score\n",
      "0      Ram  28.0  50000.0               85.0\n",
      "1     None   NaN      NaN                NaN\n",
      "2  Samiran  30.0  60000.0               78.0\n",
      "3     Jhon  40.0  30000.0               92.0\n",
      "4     Jene  29.0  45000.0               88.0\n",
      "5   Victor  60.0  49000.0               95.0\n",
      "6      Raj  32.0  70000.0               89.0\n",
      "7   Simran  45.0  48000.0               80.0\n"
     ]
    }
   ],
   "source": [
    "data = {\n",
    "    \"Name\": [\"Ram\", None, \"Samiran\", \"Jhon\", \"Jene\", \"Victor\", \"Raj\", \"Simran\"],\n",
    "    \"Age\": [28, None, 30, 40, 29, 60, 32, 45],\n",
    "    \"Salary\": [50000, None, 60000, 30000, 45000, 49000, 70000, 48000],\n",
    "    \"Performance_Score\": [85, None, 78, 92, 88, 95, 89, 80]\n",
    "}\n",
    "\n",
    "df = pd.DataFrame(data=data)\n",
    "\n",
    "print(df)"
   ]
  },
  {
   "cell_type": "code",
   "execution_count": 15,
   "id": "5aee9f30",
   "metadata": {},
   "outputs": [
    {
     "name": "stdout",
     "output_type": "stream",
     "text": [
      "    Name    Age  Salary  Performance_Score\n",
      "0  False  False   False              False\n",
      "1   True   True    True               True\n",
      "2  False  False   False              False\n",
      "3  False  False   False              False\n",
      "4  False  False   False              False\n",
      "5  False  False   False              False\n",
      "6  False  False   False              False\n",
      "7  False  False   False              False\n"
     ]
    }
   ],
   "source": [
    "print(df.isnull())"
   ]
  },
  {
   "cell_type": "code",
   "execution_count": 16,
   "id": "9f01e1e0",
   "metadata": {},
   "outputs": [
    {
     "name": "stdout",
     "output_type": "stream",
     "text": [
      "Name                 1\n",
      "Age                  1\n",
      "Salary               1\n",
      "Performance_Score    1\n",
      "dtype: int64\n"
     ]
    }
   ],
   "source": [
    "print(df.isnull().sum())"
   ]
  },
  {
   "cell_type": "markdown",
   "id": "0aeebe0b",
   "metadata": {},
   "source": [
    "### Handle missing data"
   ]
  },
  {
   "cell_type": "code",
   "execution_count": null,
   "id": "73a7b0df",
   "metadata": {},
   "outputs": [
    {
     "name": "stdout",
     "output_type": "stream",
     "text": [
      "      Name   Age   Salary  Performance_Score\n",
      "0      Ram  28.0  50000.0               85.0\n",
      "2  Samiran  30.0  60000.0               78.0\n",
      "3     Jhon  40.0  30000.0               92.0\n",
      "4     Jene  29.0  45000.0               88.0\n",
      "5   Victor  60.0  49000.0               95.0\n",
      "6      Raj  32.0  70000.0               89.0\n",
      "7   Simran  45.0  48000.0               80.0\n"
     ]
    }
   ],
   "source": [
    "df.dropna(axis=0, inplace=True)  # axis=0 means remove rows... axis=1 means column\n",
    "print(df)"
   ]
  }
 ],
 "metadata": {
  "kernelspec": {
   "display_name": ".venv",
   "language": "python",
   "name": "python3"
  },
  "language_info": {
   "codemirror_mode": {
    "name": "ipython",
    "version": 3
   },
   "file_extension": ".py",
   "mimetype": "text/x-python",
   "name": "python",
   "nbconvert_exporter": "python",
   "pygments_lexer": "ipython3",
   "version": "3.13.5"
  }
 },
 "nbformat": 4,
 "nbformat_minor": 5
}
