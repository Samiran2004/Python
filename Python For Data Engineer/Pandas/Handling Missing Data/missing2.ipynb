{
 "cells": [
  {
   "cell_type": "markdown",
   "id": "a3aa2342",
   "metadata": {},
   "source": [
    "### Fill missing value..."
   ]
  },
  {
   "cell_type": "code",
   "execution_count": 35,
   "id": "fe6ff56d",
   "metadata": {},
   "outputs": [],
   "source": [
    "import pandas as pd"
   ]
  },
  {
   "cell_type": "code",
   "execution_count": 36,
   "id": "c4006bf4",
   "metadata": {},
   "outputs": [
    {
     "name": "stdout",
     "output_type": "stream",
     "text": [
      "      Name   Age   Salary  Performance_Score\n",
      "0      Ram  28.0  50000.0               85.0\n",
      "1     None   NaN      NaN                NaN\n",
      "2  Samiran  30.0  60000.0               78.0\n",
      "3     Jhon  40.0  30000.0               92.0\n",
      "4     Jene  29.0  45000.0               88.0\n",
      "5   Victor  60.0  49000.0               95.0\n",
      "6      Raj  32.0  70000.0               89.0\n",
      "7   Simran  45.0  48000.0               80.0\n"
     ]
    }
   ],
   "source": [
    "data = {\n",
    "    \"Name\": [\"Ram\", None, \"Samiran\", \"Jhon\", \"Jene\", \"Victor\", \"Raj\", \"Simran\"],\n",
    "    \"Age\": [28, None, 30, 40, 29, 60, 32, 45],\n",
    "    \"Salary\": [50000, None, 60000, 30000, 45000, 49000, 70000, 48000],\n",
    "    \"Performance_Score\": [85, None, 78, 92, 88, 95, 89, 80]\n",
    "}\n",
    "\n",
    "df = pd.DataFrame(data=data)\n",
    "\n",
    "print(df)"
   ]
  },
  {
   "cell_type": "code",
   "execution_count": 37,
   "id": "ae454ffd",
   "metadata": {},
   "outputs": [
    {
     "name": "stdout",
     "output_type": "stream",
     "text": [
      "    Name    Age  Salary  Performance_Score\n",
      "0  False  False   False              False\n",
      "1   True   True    True               True\n",
      "2  False  False   False              False\n",
      "3  False  False   False              False\n",
      "4  False  False   False              False\n",
      "5  False  False   False              False\n",
      "6  False  False   False              False\n",
      "7  False  False   False              False\n"
     ]
    }
   ],
   "source": [
    "print(df.isnull())"
   ]
  },
  {
   "cell_type": "code",
   "execution_count": 38,
   "id": "e92ec93c",
   "metadata": {},
   "outputs": [
    {
     "name": "stdout",
     "output_type": "stream",
     "text": [
      "Name                 1\n",
      "Age                  1\n",
      "Salary               1\n",
      "Performance_Score    1\n",
      "dtype: int64\n"
     ]
    }
   ],
   "source": [
    "print(df.isnull().sum())"
   ]
  },
  {
   "cell_type": "markdown",
   "id": "5f4ef070",
   "metadata": {},
   "source": [
    "### Fill missing age value with min value of age"
   ]
  },
  {
   "cell_type": "code",
   "execution_count": 39,
   "id": "4a56e80b",
   "metadata": {},
   "outputs": [
    {
     "name": "stderr",
     "output_type": "stream",
     "text": [
      "/tmp/ipykernel_14579/3142361523.py:1: FutureWarning: A value is trying to be set on a copy of a DataFrame or Series through chained assignment using an inplace method.\n",
      "The behavior will change in pandas 3.0. This inplace method will never work because the intermediate object on which we are setting values always behaves as a copy.\n",
      "\n",
      "For example, when doing 'df[col].method(value, inplace=True)', try using 'df.method({col: value}, inplace=True)' or df[col] = df[col].method(value) instead, to perform the operation inplace on the original object.\n",
      "\n",
      "\n",
      "  df.Age.fillna(df.Age.mean(), inplace=True)\n",
      "/tmp/ipykernel_14579/3142361523.py:2: FutureWarning: A value is trying to be set on a copy of a DataFrame or Series through chained assignment using an inplace method.\n",
      "The behavior will change in pandas 3.0. This inplace method will never work because the intermediate object on which we are setting values always behaves as a copy.\n",
      "\n",
      "For example, when doing 'df[col].method(value, inplace=True)', try using 'df.method({col: value}, inplace=True)' or df[col] = df[col].method(value) instead, to perform the operation inplace on the original object.\n",
      "\n",
      "\n",
      "  df.Salary.fillna(df.Salary.mean(), inplace=True)\n"
     ]
    }
   ],
   "source": [
    "df.Age.fillna(df.Age.mean(), inplace=True)\n",
    "df.Salary.fillna(df.Salary.mean(), inplace=True)"
   ]
  },
  {
   "cell_type": "markdown",
   "id": "8e559634",
   "metadata": {},
   "source": [
    "### Fill missing value with 0"
   ]
  },
  {
   "cell_type": "code",
   "execution_count": 40,
   "id": "24fa474b",
   "metadata": {},
   "outputs": [
    {
     "name": "stdout",
     "output_type": "stream",
     "text": [
      "      Name        Age        Salary  Performance_Score\n",
      "0      Ram  28.000000  50000.000000               85.0\n",
      "1        0  37.714286  50285.714286                0.0\n",
      "2  Samiran  30.000000  60000.000000               78.0\n",
      "3     Jhon  40.000000  30000.000000               92.0\n",
      "4     Jene  29.000000  45000.000000               88.0\n",
      "5   Victor  60.000000  49000.000000               95.0\n",
      "6      Raj  32.000000  70000.000000               89.0\n",
      "7   Simran  45.000000  48000.000000               80.0\n"
     ]
    }
   ],
   "source": [
    "df.fillna(0, inplace=True)\n",
    "print(df)"
   ]
  },
  {
   "cell_type": "code",
   "execution_count": 41,
   "id": "e49ab452",
   "metadata": {},
   "outputs": [
    {
     "name": "stdout",
     "output_type": "stream",
     "text": [
      "Name                 0\n",
      "Age                  0\n",
      "Salary               0\n",
      "Performance_Score    0\n",
      "dtype: int64\n"
     ]
    }
   ],
   "source": [
    "print(df.isnull().sum())"
   ]
  }
 ],
 "metadata": {
  "kernelspec": {
   "display_name": ".venv",
   "language": "python",
   "name": "python3"
  },
  "language_info": {
   "codemirror_mode": {
    "name": "ipython",
    "version": 3
   },
   "file_extension": ".py",
   "mimetype": "text/x-python",
   "name": "python",
   "nbconvert_exporter": "python",
   "pygments_lexer": "ipython3",
   "version": "3.13.5"
  }
 },
 "nbformat": 4,
 "nbformat_minor": 5
}
