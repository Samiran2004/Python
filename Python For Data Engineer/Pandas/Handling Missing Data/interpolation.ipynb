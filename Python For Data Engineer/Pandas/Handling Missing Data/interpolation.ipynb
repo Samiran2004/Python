{
 "cells": [
  {
   "cell_type": "markdown",
   "id": "cbe311dc",
   "metadata": {},
   "source": [
    "## Filling missing datas with alogos..."
   ]
  },
  {
   "cell_type": "code",
   "execution_count": 28,
   "id": "274c89b6",
   "metadata": {},
   "outputs": [],
   "source": [
    "import pandas as pd"
   ]
  },
  {
   "cell_type": "code",
   "execution_count": 29,
   "id": "32d31c46",
   "metadata": {},
   "outputs": [
    {
     "name": "stdout",
     "output_type": "stream",
     "text": [
      "      Name   Age  Salary  Performance_Score\n",
      "0      Ram  28.0   50000                 85\n",
      "1    Shyam   NaN   40000                 90\n",
      "2  Samiran  30.0   60000                 78\n",
      "3     Jhon  40.0   30000                 92\n",
      "4     Jene  29.0   45000                 88\n",
      "5   Victor  60.0   49000                 95\n",
      "6      Raj  32.0   70000                 89\n",
      "7   Simran  45.0   48000                 80\n"
     ]
    }
   ],
   "source": [
    "data = {\n",
    "    \"Name\": [\"Ram\", \"Shyam\", \"Samiran\", \"Jhon\", \"Jene\", \"Victor\", \"Raj\", \"Simran\"],\n",
    "    \"Age\": [28, None, 30, 40, 29, 60, 32, 45],\n",
    "    \"Salary\": [50000, 40000, 60000, 30000, 45000, 49000, 70000, 48000],\n",
    "    \"Performance_Score\": [85, 90, 78, 92, 88, 95, 89, 80]\n",
    "}\n",
    "\n",
    "df = pd.DataFrame(data=data)\n",
    "\n",
    "print(df)"
   ]
  },
  {
   "cell_type": "code",
   "execution_count": 30,
   "id": "8f3aabff",
   "metadata": {},
   "outputs": [
    {
     "name": "stdout",
     "output_type": "stream",
     "text": [
      "    Name    Age  Salary  Performance_Score\n",
      "0  False  False   False              False\n",
      "1  False   True   False              False\n",
      "2  False  False   False              False\n",
      "3  False  False   False              False\n",
      "4  False  False   False              False\n",
      "5  False  False   False              False\n",
      "6  False  False   False              False\n",
      "7  False  False   False              False\n",
      "Name                 0\n",
      "Age                  1\n",
      "Salary               0\n",
      "Performance_Score    0\n",
      "dtype: int64\n"
     ]
    }
   ],
   "source": [
    "print(df.isnull())\n",
    "print(df.isnull().sum())"
   ]
  },
  {
   "cell_type": "markdown",
   "id": "b930dcfe",
   "metadata": {},
   "source": [
    "### Interpolate the Age column"
   ]
  },
  {
   "cell_type": "code",
   "execution_count": null,
   "id": "412722be",
   "metadata": {},
   "outputs": [],
   "source": [
    "df.Age = df.Age.interpolate(\"linear\")   #Linear algorithm\n",
    "print(df)"
   ]
  },
  {
   "cell_type": "code",
   "execution_count": 32,
   "id": "47e8b753",
   "metadata": {},
   "outputs": [
    {
     "name": "stdout",
     "output_type": "stream",
     "text": [
      "      Name   Age  Salary  Performance_Score\n",
      "0      Ram  28.0   50000                 85\n",
      "1    Shyam   NaN   40000                 90\n",
      "2  Samiran  30.0   60000                 78\n",
      "3     Jhon  40.0   30000                 92\n",
      "4     Jene  29.0   45000                 88\n",
      "5   Victor  60.0   49000                 95\n",
      "6      Raj  32.0   70000                 89\n",
      "7   Simran  45.0   48000                 80\n",
      "      Name        Age  Salary  Performance_Score\n",
      "0      Ram  28.000000   50000                 85\n",
      "1    Shyam  23.767436   40000                 90\n",
      "2  Samiran  30.000000   60000                 78\n",
      "3     Jhon  40.000000   30000                 92\n",
      "4     Jene  29.000000   45000                 88\n",
      "5   Victor  60.000000   49000                 95\n",
      "6      Raj  32.000000   70000                 89\n",
      "7   Simran  45.000000   48000                 80\n"
     ]
    }
   ],
   "source": [
    "print(df)\n",
    "df.Age = df.Age.interpolate(method=\"polynomial\", order=2)\n",
    "print(df)"
   ]
  }
 ],
 "metadata": {
  "kernelspec": {
   "display_name": ".venv",
   "language": "python",
   "name": "python3"
  },
  "language_info": {
   "codemirror_mode": {
    "name": "ipython",
    "version": 3
   },
   "file_extension": ".py",
   "mimetype": "text/x-python",
   "name": "python",
   "nbconvert_exporter": "python",
   "pygments_lexer": "ipython3",
   "version": "3.13.5"
  }
 },
 "nbformat": 4,
 "nbformat_minor": 5
}
