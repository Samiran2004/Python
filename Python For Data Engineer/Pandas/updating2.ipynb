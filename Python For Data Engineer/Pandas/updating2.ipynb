{
 "cells": [
  {
   "cell_type": "code",
   "execution_count": 1,
   "id": "9e181809",
   "metadata": {},
   "outputs": [],
   "source": [
    "import pandas as pd"
   ]
  },
  {
   "cell_type": "code",
   "execution_count": 2,
   "id": "7df5ccfc",
   "metadata": {},
   "outputs": [
    {
     "name": "stdout",
     "output_type": "stream",
     "text": [
      "      Name  Age  Salary  Performance_Score\n",
      "0      Ram   28   50000                 85\n",
      "1    Shyam   27   40000                 90\n",
      "2  Samiran   30   60000                 78\n",
      "3     Jhon   40   30000                 92\n",
      "4     Jene   29   45000                 88\n",
      "5   Victor   60   49000                 95\n",
      "6      Raj   32   70000                 89\n",
      "7   Simran   45   48000                 80\n"
     ]
    }
   ],
   "source": [
    "data = {\n",
    "    \"Name\": [\"Ram\", \"Shyam\", \"Samiran\", \"Jhon\", \"Jene\", \"Victor\", \"Raj\", \"Simran\"],\n",
    "    \"Age\": [28, 27, 30, 40, 29, 60, 32, 45],\n",
    "    \"Salary\": [50000, 40000, 60000, 30000, 45000, 49000, 70000, 48000],\n",
    "    \"Performance_Score\": [85, 90, 78, 92, 88, 95, 89, 80]\n",
    "}\n",
    "\n",
    "df = pd.DataFrame(data=data)\n",
    "\n",
    "print(df)"
   ]
  },
  {
   "cell_type": "markdown",
   "id": "6d104f18",
   "metadata": {},
   "source": [
    "### Increase everyone's salary by 10%"
   ]
  },
  {
   "cell_type": "code",
   "execution_count": 3,
   "id": "2980c536",
   "metadata": {},
   "outputs": [
    {
     "name": "stdout",
     "output_type": "stream",
     "text": [
      "      Name  Age   Salary  Performance_Score\n",
      "0      Ram   28  60000.0                 85\n",
      "1    Shyam   27  48000.0                 90\n",
      "2  Samiran   30  72000.0                 78\n",
      "3     Jhon   40  36000.0                 92\n",
      "4     Jene   29  54000.0                 88\n",
      "5   Victor   60  58800.0                 95\n",
      "6      Raj   32  84000.0                 89\n",
      "7   Simran   45  57600.0                 80\n"
     ]
    }
   ],
   "source": [
    "df[\"Salary\"] = df[\"Salary\"] * 1.2\n",
    "\n",
    "print(df)"
   ]
  }
 ],
 "metadata": {
  "kernelspec": {
   "display_name": ".venv",
   "language": "python",
   "name": "python3"
  },
  "language_info": {
   "codemirror_mode": {
    "name": "ipython",
    "version": 3
   },
   "file_extension": ".py",
   "mimetype": "text/x-python",
   "name": "python",
   "nbconvert_exporter": "python",
   "pygments_lexer": "ipython3",
   "version": "3.13.5"
  }
 },
 "nbformat": 4,
 "nbformat_minor": 5
}
