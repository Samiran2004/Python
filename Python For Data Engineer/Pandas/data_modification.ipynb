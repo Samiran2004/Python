{
 "cells": [
  {
   "cell_type": "markdown",
   "id": "ecb114c8",
   "metadata": {},
   "source": [
    "#### 1-> Select Specific Column\n",
    "#### 2-> Filter rows\n",
    "#### 3-> Combine multiple conditions"
   ]
  },
  {
   "cell_type": "code",
   "execution_count": 22,
   "id": "0fbae722",
   "metadata": {},
   "outputs": [],
   "source": [
    "import pandas as pd"
   ]
  },
  {
   "cell_type": "code",
   "execution_count": 23,
   "id": "9ed0774c",
   "metadata": {},
   "outputs": [
    {
     "name": "stdout",
     "output_type": "stream",
     "text": [
      "    id                                               name  \\\n",
      "0    1                                    Apple iPhone 12   \n",
      "1    2                                 Samsung Galaxy S21   \n",
      "2    3                                 Sony PlayStation 5   \n",
      "3    4                  LG OLED55CXPUA 55-inch 4K OLED TV   \n",
      "4    5        Bose QuietComfort 35 II Wireless Headphones   \n",
      "5    6                          Fitbit Versa 3 Smartwatch   \n",
      "6    7                             KitchenAid Stand Mixer   \n",
      "7    8                 Dyson V11 Absolute Cordless Vacuum   \n",
      "8    9                         Ninja Foodi Smart XL Grill   \n",
      "9   10                    Canon EOS Rebel T8i DSLR Camera   \n",
      "10  11                                  Apple AirPods Pro   \n",
      "11  12        Bose QuietComfort 35 II Wireless Headphones   \n",
      "12  13                    Fitbit Charge 4 Fitness Tracker   \n",
      "13  14                              Samsung Galaxy Watch3   \n",
      "14  15  Sony WH-1000XM4 Wireless Noise-Cancelling Head...   \n",
      "15  16          Breville Barista Express Espresso Machine   \n",
      "16  17                        Keurig K-Elite Coffee Maker   \n",
      "17  18                     iRobot Roomba i7+ Robot Vacuum   \n",
      "18  19                   Ninja Foodi Digital Air Fry Oven   \n",
      "19  20                   Cuisinart ICE-70 Ice Cream Maker   \n",
      "\n",
      "                                          description    price  \\\n",
      "0   The Apple iPhone 12 features a 6.1-inch Super ...   999.00   \n",
      "1   The Samsung Galaxy S21 features a 6.2-inch Dyn...   799.00   \n",
      "2   The Sony PlayStation 5 features an AMD Zen 2-b...   499.99   \n",
      "3   The LG OLED55CXPUA 55-inch 4K OLED TV features...  1599.99   \n",
      "4   The Bose QuietComfort 35 II Wireless Headphone...   299.00   \n",
      "5   The Fitbit Versa 3 Smartwatch features a built...   229.95   \n",
      "6   The KitchenAid Stand Mixer features a 5-quart ...   399.99   \n",
      "7   The Dyson V11 Absolute Cordless Vacuum feature...   699.99   \n",
      "8   The Ninja Foodi Smart XL Grill features 6-in-1...   279.99   \n",
      "9   The Canon EOS Rebel T8i DSLR Camera features a...   899.00   \n",
      "10  The Apple AirPods Pro feature active noise can...   249.00   \n",
      "11  The Bose QuietComfort 35 II Wireless Headphone...   299.00   \n",
      "12  The Fitbit Charge 4 Fitness Tracker features G...   129.95   \n",
      "13  The Samsung Galaxy Watch3 features a rotating ...   399.99   \n",
      "14  The Sony WH-1000XM4 Wireless Noise-Cancelling ...   349.99   \n",
      "15  The Breville Barista Express Espresso Machine ...   699.95   \n",
      "16  The Keurig K-Elite Coffee Maker features a str...   169.99   \n",
      "17  The iRobot Roomba i7+ Robot Vacuum features au...   799.99   \n",
      "18  The Ninja Foodi Digital Air Fry Oven features ...   209.99   \n",
      "19  The Cuisinart ICE-70 Ice Cream Maker features ...   139.99   \n",
      "\n",
      "           category                                              image  \n",
      "0       Electronics  https://www.apple.com/newsroom/images/product/...  \n",
      "1       Electronics  https://images.samsung.com/is/image/samsung/p6...  \n",
      "2       Electronics  https://www.sony.com/image/44baa604124b770c824...  \n",
      "3       Electronics  https://www.lg.com/us/images/tvs/md07501804/ga...  \n",
      "4       Electronics  https://assets.bose.com/content/dam/Bose_DAM/W...  \n",
      "5       Electronics  https://www.fitbit.com/global/content/dam/fitb...  \n",
      "6    Home & Kitchen  https://www.kitchenaid.com/content/dam/global/...  \n",
      "7   Home Appliances  https://www.dysoncanada.ca/dam/dyson/images/pr...  \n",
      "8    Home & Kitchen  https://www.ninjakitchen.com/medias/Ninja-OP50...  \n",
      "9       Electronics  https://www.canon.com.au/-/media/images/produc...  \n",
      "10      Electronics  https://www.apple.com/v/airpods-pro/b/images/m...  \n",
      "11      Electronics  https://assets.bose.com/content/dam/Bose_DAM/W...  \n",
      "12      Electronics  https://www.fitbit.com/global/content/dam/fitb...  \n",
      "13      Electronics  https://images.samsung.com/is/image/samsung/as...  \n",
      "14      Electronics  https://www.sony.com/image/1cdd6354c4cd21cc4f7...  \n",
      "15   Home & Kitchen  https://www.breville.com/content/dam/breville/...  \n",
      "16   Home & Kitchen  https://www.keurig.com/content/dam/global-ecom...  \n",
      "17   Home & Kitchen  https://store.irobot.com/default/i7-vacuuming-...  \n",
      "18   Home & Kitchen  https://www.ninjakitchen.com/static/img/produc...  \n",
      "19   Home & Kitchen  https://www.cuisinart.com/share/images/product...  \n"
     ]
    }
   ],
   "source": [
    "path = \"/home/samiransamanta/Python/Python For Data Engineer/Pandas/sample_Data.json\"\n",
    "\n",
    "df = pd.read_json(path)\n",
    "\n",
    "print(df)"
   ]
  },
  {
   "cell_type": "code",
   "execution_count": 24,
   "id": "cbed5a2f",
   "metadata": {},
   "outputs": [
    {
     "name": "stdout",
     "output_type": "stream",
     "text": [
      "   id                name                                        description  \\\n",
      "0   1     Apple iPhone 12  The Apple iPhone 12 features a 6.1-inch Super ...   \n",
      "1   2  Samsung Galaxy S21  The Samsung Galaxy S21 features a 6.2-inch Dyn...   \n",
      "\n",
      "   price     category                                              image  \n",
      "0  999.0  Electronics  https://www.apple.com/newsroom/images/product/...  \n",
      "1  799.0  Electronics  https://images.samsung.com/is/image/samsung/p6...  \n"
     ]
    }
   ],
   "source": [
    "data_frame = pd.DataFrame(data=df)\n",
    "print(data_frame.head(2))"
   ]
  },
  {
   "cell_type": "code",
   "execution_count": 25,
   "id": "9538c472",
   "metadata": {},
   "outputs": [
    {
     "name": "stdout",
     "output_type": "stream",
     "text": [
      "Names (Single column return series)\n",
      "0                                       Apple iPhone 12\n",
      "1                                    Samsung Galaxy S21\n",
      "2                                    Sony PlayStation 5\n",
      "3                     LG OLED55CXPUA 55-inch 4K OLED TV\n",
      "4           Bose QuietComfort 35 II Wireless Headphones\n",
      "5                             Fitbit Versa 3 Smartwatch\n",
      "6                                KitchenAid Stand Mixer\n",
      "7                    Dyson V11 Absolute Cordless Vacuum\n",
      "8                            Ninja Foodi Smart XL Grill\n",
      "9                       Canon EOS Rebel T8i DSLR Camera\n",
      "10                                    Apple AirPods Pro\n",
      "11          Bose QuietComfort 35 II Wireless Headphones\n",
      "12                      Fitbit Charge 4 Fitness Tracker\n",
      "13                                Samsung Galaxy Watch3\n",
      "14    Sony WH-1000XM4 Wireless Noise-Cancelling Head...\n",
      "15            Breville Barista Express Espresso Machine\n",
      "16                          Keurig K-Elite Coffee Maker\n",
      "17                       iRobot Roomba i7+ Robot Vacuum\n",
      "18                     Ninja Foodi Digital Air Fry Oven\n",
      "19                     Cuisinart ICE-70 Ice Cream Maker\n",
      "Name: name, dtype: object\n"
     ]
    }
   ],
   "source": [
    "print(\"Names (Single column return series)\")\n",
    "\n",
    "name = df[\"name\"]\n",
    "print(name)"
   ]
  },
  {
   "cell_type": "markdown",
   "id": "4e6d9e9b",
   "metadata": {},
   "source": [
    "# Selecting Multiple columns"
   ]
  },
  {
   "cell_type": "code",
   "execution_count": 26,
   "id": "21e4326b",
   "metadata": {},
   "outputs": [
    {
     "name": "stdout",
     "output_type": "stream",
     "text": [
      "                                                 name         category\n",
      "0                                     Apple iPhone 12      Electronics\n",
      "1                                  Samsung Galaxy S21      Electronics\n",
      "2                                  Sony PlayStation 5      Electronics\n",
      "3                   LG OLED55CXPUA 55-inch 4K OLED TV      Electronics\n",
      "4         Bose QuietComfort 35 II Wireless Headphones      Electronics\n",
      "5                           Fitbit Versa 3 Smartwatch      Electronics\n",
      "6                              KitchenAid Stand Mixer   Home & Kitchen\n",
      "7                  Dyson V11 Absolute Cordless Vacuum  Home Appliances\n",
      "8                          Ninja Foodi Smart XL Grill   Home & Kitchen\n",
      "9                     Canon EOS Rebel T8i DSLR Camera      Electronics\n",
      "10                                  Apple AirPods Pro      Electronics\n",
      "11        Bose QuietComfort 35 II Wireless Headphones      Electronics\n",
      "12                    Fitbit Charge 4 Fitness Tracker      Electronics\n",
      "13                              Samsung Galaxy Watch3      Electronics\n",
      "14  Sony WH-1000XM4 Wireless Noise-Cancelling Head...      Electronics\n",
      "15          Breville Barista Express Espresso Machine   Home & Kitchen\n",
      "16                        Keurig K-Elite Coffee Maker   Home & Kitchen\n",
      "17                     iRobot Roomba i7+ Robot Vacuum   Home & Kitchen\n",
      "18                   Ninja Foodi Digital Air Fry Oven   Home & Kitchen\n",
      "19                   Cuisinart ICE-70 Ice Cream Maker   Home & Kitchen\n"
     ]
    }
   ],
   "source": [
    "subset = df[[\"name\", \"category\"]]\n",
    "\n",
    "print(subset)"
   ]
  },
  {
   "cell_type": "markdown",
   "id": "1bceefe6",
   "metadata": {},
   "source": [
    "# Filter Rows"
   ]
  },
  {
   "cell_type": "code",
   "execution_count": 28,
   "id": "4c0077a2",
   "metadata": {},
   "outputs": [
    {
     "name": "stdout",
     "output_type": "stream",
     "text": [
      "    id                               name  \\\n",
      "0    1                    Apple iPhone 12   \n",
      "1    2                 Samsung Galaxy S21   \n",
      "3    4  LG OLED55CXPUA 55-inch 4K OLED TV   \n",
      "9   10    Canon EOS Rebel T8i DSLR Camera   \n",
      "17  18     iRobot Roomba i7+ Robot Vacuum   \n",
      "\n",
      "                                          description    price  \\\n",
      "0   The Apple iPhone 12 features a 6.1-inch Super ...   999.00   \n",
      "1   The Samsung Galaxy S21 features a 6.2-inch Dyn...   799.00   \n",
      "3   The LG OLED55CXPUA 55-inch 4K OLED TV features...  1599.99   \n",
      "9   The Canon EOS Rebel T8i DSLR Camera features a...   899.00   \n",
      "17  The iRobot Roomba i7+ Robot Vacuum features au...   799.99   \n",
      "\n",
      "          category                                              image  \n",
      "0      Electronics  https://www.apple.com/newsroom/images/product/...  \n",
      "1      Electronics  https://images.samsung.com/is/image/samsung/p6...  \n",
      "3      Electronics  https://www.lg.com/us/images/tvs/md07501804/ga...  \n",
      "9      Electronics  https://www.canon.com.au/-/media/images/produc...  \n",
      "17  Home & Kitchen  https://store.irobot.com/default/i7-vacuuming-...  \n"
     ]
    }
   ],
   "source": [
    "high_price = data_frame[data_frame[\"price\"] > 700]\n",
    "\n",
    "print(high_price)"
   ]
  },
  {
   "cell_type": "code",
   "execution_count": 29,
   "id": "f4ddb618",
   "metadata": {},
   "outputs": [
    {
     "name": "stdout",
     "output_type": "stream",
     "text": [
      "    id                             name  \\\n",
      "0    1                  Apple iPhone 12   \n",
      "1    2               Samsung Galaxy S21   \n",
      "9   10  Canon EOS Rebel T8i DSLR Camera   \n",
      "17  18   iRobot Roomba i7+ Robot Vacuum   \n",
      "\n",
      "                                          description   price        category  \\\n",
      "0   The Apple iPhone 12 features a 6.1-inch Super ...  999.00     Electronics   \n",
      "1   The Samsung Galaxy S21 features a 6.2-inch Dyn...  799.00     Electronics   \n",
      "9   The Canon EOS Rebel T8i DSLR Camera features a...  899.00     Electronics   \n",
      "17  The iRobot Roomba i7+ Robot Vacuum features au...  799.99  Home & Kitchen   \n",
      "\n",
      "                                                image  \n",
      "0   https://www.apple.com/newsroom/images/product/...  \n",
      "1   https://images.samsung.com/is/image/samsung/p6...  \n",
      "9   https://www.canon.com.au/-/media/images/produc...  \n",
      "17  https://store.irobot.com/default/i7-vacuuming-...  \n"
     ]
    }
   ],
   "source": [
    "high_price = data_frame[(data_frame[\"price\"] > 700) & (data_frame[\"price\"] < 1500)]\n",
    "print(high_price)"
   ]
  },
  {
   "cell_type": "code",
   "execution_count": 33,
   "id": "f402c4a0",
   "metadata": {},
   "outputs": [
    {
     "name": "stdout",
     "output_type": "stream",
     "text": [
      "    id                                               name  \\\n",
      "0    1                                    Apple iPhone 12   \n",
      "1    2                                 Samsung Galaxy S21   \n",
      "2    3                                 Sony PlayStation 5   \n",
      "3    4                  LG OLED55CXPUA 55-inch 4K OLED TV   \n",
      "4    5        Bose QuietComfort 35 II Wireless Headphones   \n",
      "5    6                          Fitbit Versa 3 Smartwatch   \n",
      "7    8                 Dyson V11 Absolute Cordless Vacuum   \n",
      "9   10                    Canon EOS Rebel T8i DSLR Camera   \n",
      "10  11                                  Apple AirPods Pro   \n",
      "11  12        Bose QuietComfort 35 II Wireless Headphones   \n",
      "12  13                    Fitbit Charge 4 Fitness Tracker   \n",
      "13  14                              Samsung Galaxy Watch3   \n",
      "14  15  Sony WH-1000XM4 Wireless Noise-Cancelling Head...   \n",
      "\n",
      "                                          description    price  \\\n",
      "0   The Apple iPhone 12 features a 6.1-inch Super ...   999.00   \n",
      "1   The Samsung Galaxy S21 features a 6.2-inch Dyn...   799.00   \n",
      "2   The Sony PlayStation 5 features an AMD Zen 2-b...   499.99   \n",
      "3   The LG OLED55CXPUA 55-inch 4K OLED TV features...  1599.99   \n",
      "4   The Bose QuietComfort 35 II Wireless Headphone...   299.00   \n",
      "5   The Fitbit Versa 3 Smartwatch features a built...   229.95   \n",
      "7   The Dyson V11 Absolute Cordless Vacuum feature...   699.99   \n",
      "9   The Canon EOS Rebel T8i DSLR Camera features a...   899.00   \n",
      "10  The Apple AirPods Pro feature active noise can...   249.00   \n",
      "11  The Bose QuietComfort 35 II Wireless Headphone...   299.00   \n",
      "12  The Fitbit Charge 4 Fitness Tracker features G...   129.95   \n",
      "13  The Samsung Galaxy Watch3 features a rotating ...   399.99   \n",
      "14  The Sony WH-1000XM4 Wireless Noise-Cancelling ...   349.99   \n",
      "\n",
      "           category                                              image  \n",
      "0       Electronics  https://www.apple.com/newsroom/images/product/...  \n",
      "1       Electronics  https://images.samsung.com/is/image/samsung/p6...  \n",
      "2       Electronics  https://www.sony.com/image/44baa604124b770c824...  \n",
      "3       Electronics  https://www.lg.com/us/images/tvs/md07501804/ga...  \n",
      "4       Electronics  https://assets.bose.com/content/dam/Bose_DAM/W...  \n",
      "5       Electronics  https://www.fitbit.com/global/content/dam/fitb...  \n",
      "7   Home Appliances  https://www.dysoncanada.ca/dam/dyson/images/pr...  \n",
      "9       Electronics  https://www.canon.com.au/-/media/images/produc...  \n",
      "10      Electronics  https://www.apple.com/v/airpods-pro/b/images/m...  \n",
      "11      Electronics  https://assets.bose.com/content/dam/Bose_DAM/W...  \n",
      "12      Electronics  https://www.fitbit.com/global/content/dam/fitb...  \n",
      "13      Electronics  https://images.samsung.com/is/image/samsung/as...  \n",
      "14      Electronics  https://www.sony.com/image/1cdd6354c4cd21cc4f7...  \n"
     ]
    }
   ],
   "source": [
    "selected_products = data_frame[(data_frame[\"category\"] == \"Electronics\") | (data_frame[\"category\"] == \"Home Appliances\")]\n",
    "print(selected_products)"
   ]
  }
 ],
 "metadata": {
  "kernelspec": {
   "display_name": ".venv",
   "language": "python",
   "name": "python3"
  },
  "language_info": {
   "codemirror_mode": {
    "name": "ipython",
    "version": 3
   },
   "file_extension": ".py",
   "mimetype": "text/x-python",
   "name": "python",
   "nbconvert_exporter": "python",
   "pygments_lexer": "ipython3",
   "version": "3.13.5"
  }
 },
 "nbformat": 4,
 "nbformat_minor": 5
}
