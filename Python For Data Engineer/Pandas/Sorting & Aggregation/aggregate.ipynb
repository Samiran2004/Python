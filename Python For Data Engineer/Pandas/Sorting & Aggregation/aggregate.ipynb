{
 "cells": [
  {
   "cell_type": "code",
   "execution_count": 1,
   "id": "c1d11e00",
   "metadata": {},
   "outputs": [],
   "source": [
    "import pandas as pd"
   ]
  },
  {
   "cell_type": "code",
   "execution_count": 2,
   "id": "b9a72c1c",
   "metadata": {},
   "outputs": [
    {
     "name": "stdout",
     "output_type": "stream",
     "text": [
      "    name  age  salary\n",
      "0   Arun   60   10000\n",
      "1  Varun   22   20000\n",
      "2  Tarun   30   30000\n"
     ]
    }
   ],
   "source": [
    "data = {\n",
    "    \"name\": [\"Arun\", \"Varun\", \"Tarun\"],\n",
    "    \"age\": [60, 22, 30],\n",
    "    \"salary\": [10000, 20000, 30000]\n",
    "}\n",
    "\n",
    "data_frame = pd.DataFrame(data=data)\n",
    "print(data_frame)"
   ]
  },
  {
   "cell_type": "code",
   "execution_count": 6,
   "id": "e3b3d19d",
   "metadata": {},
   "outputs": [
    {
     "name": "stdout",
     "output_type": "stream",
     "text": [
      "Average Salary: 20000.0\n"
     ]
    }
   ],
   "source": [
    "avg_salary = data_frame[\"salary\"].mean()\n",
    "print(f\"Average Salary: {avg_salary}\")"
   ]
  }
 ],
 "metadata": {
  "kernelspec": {
   "display_name": ".venv",
   "language": "python",
   "name": "python3"
  },
  "language_info": {
   "codemirror_mode": {
    "name": "ipython",
    "version": 3
   },
   "file_extension": ".py",
   "mimetype": "text/x-python",
   "name": "python",
   "nbconvert_exporter": "python",
   "pygments_lexer": "ipython3",
   "version": "3.13.5"
  }
 },
 "nbformat": 4,
 "nbformat_minor": 5
}
