{
 "cells": [
  {
   "cell_type": "code",
   "execution_count": 5,
   "id": "1546b262",
   "metadata": {},
   "outputs": [],
   "source": [
    "import pandas as pd"
   ]
  },
  {
   "cell_type": "code",
   "execution_count": 6,
   "id": "1b365cb5",
   "metadata": {},
   "outputs": [
    {
     "name": "stdout",
     "output_type": "stream",
     "text": [
      "    Name  Age  Salary\n",
      "0   Arun   18   50000\n",
      "1  Varun   34   60000\n",
      "2  Tarun   54   45000\n",
      "3  Karun   34   52000\n",
      "4  Narun   40   48000\n"
     ]
    }
   ],
   "source": [
    "data = {\n",
    "    \"Name\": [\"Arun\", \"Varun\", \"Tarun\", \"Karun\", \"Narun\"],\n",
    "    \"Age\": [18, 34, 54, 34, 40],\n",
    "    \"Salary\": [50000, 60000, 45000, 52000, 48000]\n",
    "}\n",
    "\n",
    "dataFrame = pd.DataFrame(data=data)\n",
    "\n",
    "print(dataFrame)"
   ]
  },
  {
   "cell_type": "code",
   "execution_count": 7,
   "id": "41e93860",
   "metadata": {},
   "outputs": [
    {
     "name": "stdout",
     "output_type": "stream",
     "text": [
      "Age\n",
      "18     50000\n",
      "34    112000\n",
      "40     48000\n",
      "54     45000\n",
      "Name: Salary, dtype: int64\n"
     ]
    }
   ],
   "source": [
    "grouped_data = dataFrame.groupby(by=\"Age\")[\"Salary\"].sum()\n",
    "print(grouped_data)"
   ]
  },
  {
   "cell_type": "code",
   "execution_count": 8,
   "id": "933f3932",
   "metadata": {},
   "outputs": [
    {
     "name": "stdout",
     "output_type": "stream",
     "text": [
      "Age  Name \n",
      "18   Arun     50000\n",
      "34   Karun    52000\n",
      "     Varun    60000\n",
      "40   Narun    48000\n",
      "54   Tarun    45000\n",
      "Name: Salary, dtype: int64\n"
     ]
    }
   ],
   "source": [
    "grouped_data = dataFrame.groupby([\"Age\", \"Name\"])[\"Salary\"].sum()\n",
    "print(grouped_data)"
   ]
  }
 ],
 "metadata": {
  "kernelspec": {
   "display_name": ".venv",
   "language": "python",
   "name": "python3"
  },
  "language_info": {
   "codemirror_mode": {
    "name": "ipython",
    "version": 3
   },
   "file_extension": ".py",
   "mimetype": "text/x-python",
   "name": "python",
   "nbconvert_exporter": "python",
   "pygments_lexer": "ipython3",
   "version": "3.13.5"
  }
 },
 "nbformat": 4,
 "nbformat_minor": 5
}
