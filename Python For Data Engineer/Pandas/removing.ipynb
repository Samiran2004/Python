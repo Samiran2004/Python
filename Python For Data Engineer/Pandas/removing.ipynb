{
 "cells": [
  {
   "cell_type": "code",
   "execution_count": 21,
   "id": "8f9d5e47",
   "metadata": {},
   "outputs": [],
   "source": [
    "import pandas as pd"
   ]
  },
  {
   "cell_type": "code",
   "execution_count": 22,
   "id": "8fb5160e",
   "metadata": {},
   "outputs": [
    {
     "name": "stdout",
     "output_type": "stream",
     "text": [
      "      Name  Age  Salary  Performance_Score\n",
      "0      Ram   28   50000                 85\n",
      "1    Shyam   27   40000                 90\n",
      "2  Samiran   30   60000                 78\n",
      "3     Jhon   40   30000                 92\n",
      "4     Jene   29   45000                 88\n",
      "5   Victor   60   49000                 95\n",
      "6      Raj   32   70000                 89\n",
      "7   Simran   45   48000                 80\n"
     ]
    }
   ],
   "source": [
    "data = {\n",
    "    \"Name\": [\"Ram\", \"Shyam\", \"Samiran\", \"Jhon\", \"Jene\", \"Victor\", \"Raj\", \"Simran\"],\n",
    "    \"Age\": [28, 27, 30, 40, 29, 60, 32, 45],\n",
    "    \"Salary\": [50000, 40000, 60000, 30000, 45000, 49000, 70000, 48000],\n",
    "    \"Performance_Score\": [85, 90, 78, 92, 88, 95, 89, 80]\n",
    "}\n",
    "\n",
    "df = pd.DataFrame(data=data)\n",
    "\n",
    "print(df)"
   ]
  },
  {
   "cell_type": "code",
   "execution_count": 23,
   "id": "fd24be6d",
   "metadata": {},
   "outputs": [
    {
     "name": "stdout",
     "output_type": "stream",
     "text": [
      "      Name  Salary\n",
      "0      Ram   50000\n",
      "1    Shyam   40000\n",
      "2  Samiran   60000\n",
      "3     Jhon   30000\n",
      "4     Jene   45000\n",
      "5   Victor   49000\n",
      "6      Raj   70000\n",
      "7   Simran   48000\n"
     ]
    }
   ],
   "source": [
    "df.drop(columns=[\"Performance_Score\", \"Age\"], inplace=True)\n",
    "print(df)"
   ]
  }
 ],
 "metadata": {
  "kernelspec": {
   "display_name": ".venv",
   "language": "python",
   "name": "python3"
  },
  "language_info": {
   "codemirror_mode": {
    "name": "ipython",
    "version": 3
   },
   "file_extension": ".py",
   "mimetype": "text/x-python",
   "name": "python",
   "nbconvert_exporter": "python",
   "pygments_lexer": "ipython3",
   "version": "3.13.5"
  }
 },
 "nbformat": 4,
 "nbformat_minor": 5
}
